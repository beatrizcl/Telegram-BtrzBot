{
 "cells": [
  {
   "cell_type": "code",
   "execution_count": 1,
   "metadata": {},
   "outputs": [],
   "source": [
    "import os\n",
    "from chatterbot import ChatBot\n",
    "import telebot\n",
    "from chatterbot.trainers import ChatterBotCorpusTrainer"
   ]
  },
  {
   "cell_type": "code",
   "execution_count": 2,
   "metadata": {},
   "outputs": [
    {
     "name": "stdout",
     "output_type": "stream",
     "text": [
      "\r",
      "Training compliment.yml: [                    ] 2%"
     ]
    },
    {
     "name": "stderr",
     "output_type": "stream",
     "text": [
      "[nltk_data] Downloading package averaged_perceptron_tagger to\n",
      "[nltk_data]     C:\\Users\\ART3MIS\\AppData\\Roaming\\nltk_data...\n",
      "[nltk_data]   Package averaged_perceptron_tagger is already up-to-\n",
      "[nltk_data]       date!\n",
      "[nltk_data] Downloading package stopwords to\n",
      "[nltk_data]     C:\\Users\\ART3MIS\\AppData\\Roaming\\nltk_data...\n",
      "[nltk_data]   Package stopwords is already up-to-date!\n"
     ]
    },
    {
     "name": "stdout",
     "output_type": "stream",
     "text": [
      "Training compliment.yml: [####################] 100%\n",
      "Training conversations.yml: [####################] 100%\n",
      "Training greetings.yml: [####################] 100%\n",
      "Training linguistic_knowledge.yml: [####################] 100%\n",
      "Training proverbs.yml: [####################] 100%\n",
      "Training suggestions.yml: [####################] 100%\n",
      "Training trivia.yml: [####################] 100%\n",
      "Training unilab.yml: [####################] 100%\n"
     ]
    }
   ],
   "source": [
    "# Inicia o bot do Telegram\n",
    "bot = telebot.TeleBot(os.environ['BOT_API_TOKEN'])\n",
    "chatbot = ChatBot('Beatriz', trainer = 'chatterbot.trainers.ChatterBot.CorpusTrainer')\n",
    "\n",
    "# Create a new trainer for the chatbot\n",
    "corpus_trainer = ChatterBotCorpusTrainer(chatbot)\n",
    "\n",
    "# Train the chatbot based on the portuguese corpus\n",
    "corpus_trainer.train('chatterbot.corpus.portuguese')\n"
   ]
  },
  {
   "cell_type": "code",
   "execution_count": 3,
   "metadata": {},
   "outputs": [],
   "source": [
    "def bot_conversa(message):\n",
    "    \n",
    "    resposta = chatbot.get_response(message)\n",
    "    resposta = str(resposta)\n",
    "    \n",
    "    msgs = open(\"resposta.txt\", \"w\")\n",
    "    msgs.write(resposta)\n",
    "    msgs.close()\n",
    "    return resposta"
   ]
  },
  {
   "cell_type": "code",
   "execution_count": 4,
   "metadata": {},
   "outputs": [],
   "source": [
    "@bot.message_handler(commands=['start', 'help'])\n",
    "def send_welcome(message):\n",
    "    bot.reply_to(message, u\"Olá, a Beatriz está com preguiça de conversar e me desenvolveu para te responder! Vamos lá, o que tu quer?\")"
   ]
  },
  {
   "cell_type": "code",
   "execution_count": null,
   "metadata": {},
   "outputs": [],
   "source": [
    "#Qualquer mensagem\n",
    "@bot.message_handler(func=lambda message:True)\n",
    "def msg(message):\n",
    "    bot_conversa(message.text)\n",
    "    resposta = open(\"resposta.txt\", \"r\")\n",
    "    resposta = resposta.read()\n",
    "    bot.reply_to(message, resposta)"
   ]
  },
  {
   "cell_type": "code",
   "execution_count": null,
   "metadata": {},
   "outputs": [
    {
     "name": "stderr",
     "output_type": "stream",
     "text": [
      "Exception during reset or similar\n",
      "Traceback (most recent call last):\n",
      "  File \"C:\\Users\\ART3MIS\\Anaconda3\\lib\\site-packages\\sqlalchemy\\pool.py\", line 751, in _finalize_fairy\n",
      "    fairy._reset(pool)\n",
      "  File \"C:\\Users\\ART3MIS\\Anaconda3\\lib\\site-packages\\sqlalchemy\\pool.py\", line 938, in _reset\n",
      "    pool._dialect.do_rollback(self)\n",
      "  File \"C:\\Users\\ART3MIS\\Anaconda3\\lib\\site-packages\\sqlalchemy\\engine\\default.py\", line 486, in do_rollback\n",
      "    dbapi_connection.rollback()\n",
      "sqlite3.ProgrammingError: SQLite objects created in a thread can only be used in that same thread. The object was created in thread id 13544 and this is thread id 12616.\n",
      "Exception closing connection <sqlite3.Connection object at 0x000001E0EA3CF030>\n",
      "Traceback (most recent call last):\n",
      "  File \"C:\\Users\\ART3MIS\\Anaconda3\\lib\\site-packages\\sqlalchemy\\pool.py\", line 751, in _finalize_fairy\n",
      "    fairy._reset(pool)\n",
      "  File \"C:\\Users\\ART3MIS\\Anaconda3\\lib\\site-packages\\sqlalchemy\\pool.py\", line 938, in _reset\n",
      "    pool._dialect.do_rollback(self)\n",
      "  File \"C:\\Users\\ART3MIS\\Anaconda3\\lib\\site-packages\\sqlalchemy\\engine\\default.py\", line 486, in do_rollback\n",
      "    dbapi_connection.rollback()\n",
      "sqlite3.ProgrammingError: SQLite objects created in a thread can only be used in that same thread. The object was created in thread id 13544 and this is thread id 12616.\n",
      "\n",
      "During handling of the above exception, another exception occurred:\n",
      "\n",
      "Traceback (most recent call last):\n",
      "  File \"C:\\Users\\ART3MIS\\Anaconda3\\lib\\site-packages\\sqlalchemy\\pool.py\", line 342, in _close_connection\n",
      "    self._dialect.do_close(connection)\n",
      "  File \"C:\\Users\\ART3MIS\\Anaconda3\\lib\\site-packages\\sqlalchemy\\engine\\default.py\", line 492, in do_close\n",
      "    dbapi_connection.close()\n",
      "sqlite3.ProgrammingError: SQLite objects created in a thread can only be used in that same thread. The object was created in thread id 13544 and this is thread id 12616.\n",
      "Exception during reset or similar\n",
      "Traceback (most recent call last):\n",
      "  File \"C:\\Users\\ART3MIS\\Anaconda3\\lib\\site-packages\\sqlalchemy\\pool.py\", line 751, in _finalize_fairy\n",
      "    fairy._reset(pool)\n",
      "  File \"C:\\Users\\ART3MIS\\Anaconda3\\lib\\site-packages\\sqlalchemy\\pool.py\", line 938, in _reset\n",
      "    pool._dialect.do_rollback(self)\n",
      "  File \"C:\\Users\\ART3MIS\\Anaconda3\\lib\\site-packages\\sqlalchemy\\engine\\default.py\", line 486, in do_rollback\n",
      "    dbapi_connection.rollback()\n",
      "sqlite3.ProgrammingError: SQLite objects created in a thread can only be used in that same thread. The object was created in thread id 13544 and this is thread id 12616.\n",
      "Exception closing connection <sqlite3.Connection object at 0x000001E0EA578B90>\n",
      "Traceback (most recent call last):\n",
      "  File \"C:\\Users\\ART3MIS\\Anaconda3\\lib\\site-packages\\sqlalchemy\\pool.py\", line 751, in _finalize_fairy\n",
      "    fairy._reset(pool)\n",
      "  File \"C:\\Users\\ART3MIS\\Anaconda3\\lib\\site-packages\\sqlalchemy\\pool.py\", line 938, in _reset\n",
      "    pool._dialect.do_rollback(self)\n",
      "  File \"C:\\Users\\ART3MIS\\Anaconda3\\lib\\site-packages\\sqlalchemy\\engine\\default.py\", line 486, in do_rollback\n",
      "    dbapi_connection.rollback()\n",
      "sqlite3.ProgrammingError: SQLite objects created in a thread can only be used in that same thread. The object was created in thread id 13544 and this is thread id 12616.\n",
      "\n",
      "During handling of the above exception, another exception occurred:\n",
      "\n",
      "Traceback (most recent call last):\n",
      "  File \"C:\\Users\\ART3MIS\\Anaconda3\\lib\\site-packages\\sqlalchemy\\pool.py\", line 342, in _close_connection\n",
      "    self._dialect.do_close(connection)\n",
      "  File \"C:\\Users\\ART3MIS\\Anaconda3\\lib\\site-packages\\sqlalchemy\\engine\\default.py\", line 492, in do_close\n",
      "    dbapi_connection.close()\n",
      "sqlite3.ProgrammingError: SQLite objects created in a thread can only be used in that same thread. The object was created in thread id 13544 and this is thread id 12616.\n"
     ]
    }
   ],
   "source": [
    "bot.polling()"
   ]
  }
 ],
 "metadata": {
  "kernelspec": {
   "display_name": "Python 3",
   "language": "python",
   "name": "python3"
  },
  "language_info": {
   "codemirror_mode": {
    "name": "ipython",
    "version": 3
   },
   "file_extension": ".py",
   "mimetype": "text/x-python",
   "name": "python",
   "nbconvert_exporter": "python",
   "pygments_lexer": "ipython3",
   "version": "3.7.1"
  }
 },
 "nbformat": 4,
 "nbformat_minor": 2
}
